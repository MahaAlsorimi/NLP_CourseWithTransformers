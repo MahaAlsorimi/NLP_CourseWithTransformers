{
  "nbformat": 4,
  "nbformat_minor": 0,
  "metadata": {
    "colab": {
      "provenance": []
    },
    "kernelspec": {
      "name": "python3",
      "display_name": "Python 3"
    },
    "language_info": {
      "name": "python"
    }
  },
  "cells": [
    {
      "cell_type": "markdown",
      "source": [
        "# Asma's Topic"
      ],
      "metadata": {
        "id": "fX_xnRufFwJ0"
      }
    },
    {
      "cell_type": "code",
      "execution_count": 1,
      "metadata": {
        "colab": {
          "base_uri": "https://localhost:8080/"
        },
        "id": "aSDQJzfdSVyv",
        "outputId": "232bd640-a3d2-4f8b-f76b-70e12d190a2d"
      },
      "outputs": [
        {
          "output_type": "stream",
          "name": "stdout",
          "text": [
            "Clara PERSON\n",
            "Berkeley GPE\n",
            "California GPE\n"
          ]
        }
      ],
      "source": [
        "import spacy\n",
        "\n",
        "# تحميل نموذج spaCy\n",
        "nlp = spacy.load(\"en_core_web_sm\")\n",
        "\n",
        "# معالجة النص\n",
        "text = \"My name is Clara and I live in Berkeley, California.\"\n",
        "\n",
        "# استخراج الكيانات المسماة\n",
        "entities = nlp(text).ents\n",
        "\n",
        "# طباعة الكيانات المسماة\n",
        "for entity in entities:\n",
        "    print(entity.text, entity.label_)\n"
      ]
    }
  ]
}