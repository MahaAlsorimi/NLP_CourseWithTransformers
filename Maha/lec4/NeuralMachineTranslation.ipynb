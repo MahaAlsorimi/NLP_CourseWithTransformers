{
  "cells": [
    {
      "cell_type": "markdown",
      "metadata": {},
      "source": [
        "# Maha's Topic"
      ]
    },
    {
      "cell_type": "code",
      "execution_count": 64,
      "metadata": {
        "colab": {
          "base_uri": "https://localhost:8080/"
        },
        "id": "jynd6ulUffRK",
        "outputId": "767e0c6c-0179-4da0-9894-f64088677912"
      },
      "outputs": [
        {
          "name": "stdout",
          "output_type": "stream",
          "text": [
            "Requirement already satisfied: transformers in /usr/local/lib/python3.10/dist-packages (4.37.2)\n",
            "Requirement already satisfied: filelock in /usr/local/lib/python3.10/dist-packages (from transformers) (3.13.1)\n",
            "Requirement already satisfied: huggingface-hub<1.0,>=0.19.3 in /usr/local/lib/python3.10/dist-packages (from transformers) (0.20.3)\n",
            "Requirement already satisfied: numpy>=1.17 in /usr/local/lib/python3.10/dist-packages (from transformers) (1.25.2)\n",
            "Requirement already satisfied: packaging>=20.0 in /usr/local/lib/python3.10/dist-packages (from transformers) (23.2)\n",
            "Requirement already satisfied: pyyaml>=5.1 in /usr/local/lib/python3.10/dist-packages (from transformers) (6.0.1)\n",
            "Requirement already satisfied: regex!=2019.12.17 in /usr/local/lib/python3.10/dist-packages (from transformers) (2023.12.25)\n",
            "Requirement already satisfied: requests in /usr/local/lib/python3.10/dist-packages (from transformers) (2.31.0)\n",
            "Requirement already satisfied: tokenizers<0.19,>=0.14 in /usr/local/lib/python3.10/dist-packages (from transformers) (0.15.2)\n",
            "Requirement already satisfied: safetensors>=0.4.1 in /usr/local/lib/python3.10/dist-packages (from transformers) (0.4.2)\n",
            "Requirement already satisfied: tqdm>=4.27 in /usr/local/lib/python3.10/dist-packages (from transformers) (4.66.2)\n",
            "Requirement already satisfied: fsspec>=2023.5.0 in /usr/local/lib/python3.10/dist-packages (from huggingface-hub<1.0,>=0.19.3->transformers) (2023.6.0)\n",
            "Requirement already satisfied: typing-extensions>=3.7.4.3 in /usr/local/lib/python3.10/dist-packages (from huggingface-hub<1.0,>=0.19.3->transformers) (4.9.0)\n",
            "Requirement already satisfied: charset-normalizer<4,>=2 in /usr/local/lib/python3.10/dist-packages (from requests->transformers) (3.3.2)\n",
            "Requirement already satisfied: idna<4,>=2.5 in /usr/local/lib/python3.10/dist-packages (from requests->transformers) (3.6)\n",
            "Requirement already satisfied: urllib3<3,>=1.21.1 in /usr/local/lib/python3.10/dist-packages (from requests->transformers) (2.0.7)\n",
            "Requirement already satisfied: certifi>=2017.4.17 in /usr/local/lib/python3.10/dist-packages (from requests->transformers) (2024.2.2)\n"
          ]
        }
      ],
      "source": [
        "!pip install transformers"
      ]
    },
    {
      "cell_type": "code",
      "execution_count": 65,
      "metadata": {
        "colab": {
          "base_uri": "https://localhost:8080/"
        },
        "id": "9POZXkxIgHJO",
        "outputId": "2a655892-5bcb-4589-a6f6-9750775e081e"
      },
      "outputs": [
        {
          "name": "stderr",
          "output_type": "stream",
          "text": [
            "/usr/local/lib/python3.10/dist-packages/transformers/models/marian/tokenization_marian.py:197: UserWarning: Recommended: pip install sacremoses.\n",
            "  warnings.warn(\"Recommended: pip install sacremoses.\")\n"
          ]
        }
      ],
      "source": [
        "from transformers import pipeline\n",
        "\n",
        "# Initialize the translation pipeline for English to Arabic translation\n",
        "Translator = pipeline(\"translation\", model=\"Helsinki-NLP/opus-mt-en-ar\")\n",
        "ArbTranslator = pipeline(\"translation\", model=\"Helsinki-NLP/opus-mt-ar-en\")\n"
      ]
    },
    {
      "cell_type": "code",
      "execution_count": 66,
      "metadata": {
        "colab": {
          "base_uri": "https://localhost:8080/"
        },
        "id": "bsoVtcddgMfJ",
        "outputId": "51ef54e9-c1a2-41cb-dd1d-7b3a341970a3"
      },
      "outputs": [
        {
          "name": "stdout",
          "output_type": "stream",
          "text": [
            "هذه هي عينة الجملة باللغة الإنجليزية.\n"
          ]
        }
      ],
      "source": [
        "\n",
        "text = \"This is a sample sentence in English.\"\n",
        "\n",
        "# Translate the text to Arabic\n",
        "translated_text = Translator(text)[0][\"translation_text\"]\n",
        "\n",
        "\n",
        "print(translated_text)"
      ]
    },
    {
      "cell_type": "code",
      "execution_count": 67,
      "metadata": {
        "colab": {
          "base_uri": "https://localhost:8080/"
        },
        "id": "qT56ShxIhopq",
        "outputId": "32262b5f-2141-4a3a-d81c-0c89799f5955"
      },
      "outputs": [
        {
          "data": {
            "text/plain": [
              "[{'translation_text': 'ترجم هذه الرسالة من الإنكليزية إلى العربية'},\n",
              " {'translation_text': 'أيضاً هذا المرسَل'},\n",
              " {'translation_text': 'الطقس جميل اليوم'}]"
            ]
          },
          "execution_count": 67,
          "metadata": {},
          "output_type": "execute_result"
        }
      ],
      "source": [
        "text =[\"translate this sentance from English to Arabic language\",\" also this sentance \",\" The weather is beautiful today\"]\n",
        "Translator(text)"
      ]
    },
    {
      "cell_type": "code",
      "execution_count": 68,
      "metadata": {
        "colab": {
          "base_uri": "https://localhost:8080/"
        },
        "id": "ON73-fEggNY6",
        "outputId": "1d7653a7-8032-4d52-f9c1-0cd039281eff"
      },
      "outputs": [
        {
          "name": "stdout",
          "output_type": "stream",
          "text": [
            "This is a typical sentence in Arabic.\n"
          ]
        }
      ],
      "source": [
        "# للترجمة من العربي الى الانجليزي\n",
        "text = \"هذه جملة نموذجية باللغة العربية.\"\n",
        "\n",
        "# Translate the text to English\n",
        "translated_text = ArbTranslator(text)[0][\"translation_text\"]\n",
        "\n",
        "\n",
        "print(translated_text)\n"
      ]
    },
    {
      "cell_type": "code",
      "execution_count": 69,
      "metadata": {
        "colab": {
          "base_uri": "https://localhost:8080/"
        },
        "id": "5Uq4kY0S1lHU",
        "outputId": "18d5cc0c-29f7-4a46-b827-2f6fc91ac584"
      },
      "outputs": [
        {
          "name": "stdout",
          "output_type": "stream",
          "text": [
            "512\n"
          ]
        }
      ],
      "source": [
        "print(Translator.model.config.max_length)"
      ]
    },
    {
      "cell_type": "code",
      "execution_count": 70,
      "metadata": {
        "id": "iW7sytXev1Ke"
      },
      "outputs": [],
      "source": [
        "story=[\"\"\"\n",
        "Every day, a small ant used to reach her office early and quickly began working; she was contented with her life.\n",
        "The ant's supervisor, a lion, was the only person to manage all the things on his own and thought that if the ant can create so much without supervision, wouldn't she be able to do a little extra work?\n",
        "As a result, the lion enlisted the help of a cockroach with significant supervisory experience and a reputation for producing good reports.\n",
        "\"\"\",\"\"\"\n",
        "The first thing the cockroach did was build up a clocking-in mechanism.\n",
        "He also needs the assistance of a secretary to assist him in writing and typing his reports.\n",
        "He hired a spider to look after the archives and keep track of all phone calls.\n",
        "\"\"\",\"\"\"\n",
        "The lion was so pleased with the report that was presented by the cockroach that the lion requested him to prepare documents analysing process efficiency and patterns so that he might utilise them in committee meetings.\n",
        "As a result, the cockroach had to get a desktop in order to accomplish his task ahead of schedule. The ant, who had earlier been so productive and comfortable, despised the new flurry of documentation and conferences that had taken up far too much of her day.\n",
        "The lion came to the opinion that it was past time to appoint someone in charge of the ant's department. The cicada was given the job, and his first purchase was a carpet and a comfortable chair for his office. Namya, the new in-charge, also needs a computer and a personal assistant, whom he had acquired from his former department to assist him in developing a work and budget control strategic optimization plan.\n",
        "\"\"\",\"\"\"\n",
        "The ant's department is now a sad area, where no one laughs anymore and everyone is upset. Namya convinced the boss, the lion, to begin climate research of the office environment at that time. After reviewing the responsibilities of operating the ant's division, the lion discovered that production was significantly lower than previously, so he enlisted the help of the owl, a respected and well-known expert, to conduct an assessment and make recommendations.\n",
        "The owl stayed in the department for three months and produced a massive report (in several volumes) concluding that \"the department is overstaffed.\"\n",
        "Guess who the lion fired first?The ant of course “Because she showed a lack of motivation and had a negative attitude.After analyzing the situation, the ant decided to join the office back and despite having a lot, she used a smart approach and find out the best possible solutions to bring a huge profit to the office. Also, she reached the position of a lion (her boss).We conclude from the above story of ant that one who falls bounces with a greater height.\n",
        "Always be determined to reach your goal.\n",
        "\"\"\"]"
      ]
    },
    {
      "cell_type": "code",
      "execution_count": 71,
      "metadata": {
        "colab": {
          "base_uri": "https://localhost:8080/"
        },
        "id": "KcAFBtBX1sPb",
        "outputId": "91b90d28-ebbf-4e71-cdb0-8527edeb5291"
      },
      "outputs": [
        {
          "name": "stdout",
          "output_type": "stream",
          "text": [
            "4\n"
          ]
        }
      ],
      "source": [
        "print(len(story))"
      ]
    },
    {
      "cell_type": "code",
      "execution_count": 78,
      "metadata": {
        "colab": {
          "base_uri": "https://localhost:8080/"
        },
        "id": "zVdwzk48xhE6",
        "outputId": "8b573b55-973f-4f78-fb3b-2366c6ada3e4"
      },
      "outputs": [
        {
          "name": "stdout",
          "output_type": "stream",
          "text": [
            "('كل يوم، كانت النملة الصغيرة تستخدم للوصول إلى مكتبها في وقت مبكر وسرعان ما '\n",
            " 'بدأت العمل؛ وكانت راضية عن حياتها. وكان مشرف النملة، الأسد، الشخص الوحيد '\n",
            " 'الذي يدير كل الأشياء بنفسه وفكر أنه إذا كان النملة قادرة على خلق الكثير من '\n",
            " 'دون إشراف، ألن تكون قادرة على القيام ببعض العمل الإضافي؟ ونتيجة لذلك، جند '\n",
            " 'الأسد مساعدة صرصور ذي خبرة إشرافية كبيرة وسمعة لإنتاج تقارير جيدة. كان أول '\n",
            " 'ما فعله الصرصور هو بناء آلية لضبط التوقيت، وهو يحتاج أيضاً إلى مساعدة سكرتير '\n",
            " 'لمساعدته في كتابة وطباعة تقاريره، واستأجر عنكبوتاً ليعتني بالمحفوظات ويتابع '\n",
            " 'جميع المكالمات الهاتفية. وكان الأسد مسروراً جداً بالتقرير الذي قدمه النسر '\n",
            " 'الذي طلب منه الأسد إعداد الوثائق التي تحلل كفاءة العملية وأنماطها ليستخدمها '\n",
            " 'في اجتماعات اللجان، ونتيجة لذلك اضطر الصرصور إلى الحصول على سطح مكتب لإنجاز '\n",
            " 'مهمته قبل الموعد المحدد، واحتقر النمل، الذي كان منتجاً ومريحاً جداً في وقت '\n",
            " 'سابق، المجموعة الجديدة من الوثائق والمؤتمرات التي استغرقت وقتاً طويلاً جداً '\n",
            " 'من يومها، ورأى الأسد أن الوقت قد حان لتعيين شخص مسؤول عن إدارة النملة، '\n",
            " 'وأعطيت سيكادا الوظيفة، وكان شراؤه الأول سجاداً وكرسياً مريحاً لمكتبه، وتحتاج '\n",
            " 'ناميا، الموظفة الجديدة، أيضاً إلى حاسوب ومساعد شخصي، كان قد حصل عليه من قسمه '\n",
            " 'السابق لمساعدته في وضع خطة استراتيجية لتحسين العمل ومراقبة الميزانية. قسم '\n",
            " 'النملة هو الآن منطقة حزينة، حيث لا أحد يضحك بعد الآن والكل منزعج. لقد أقنعت '\n",
            " 'ناميا الرئيس، الأسد، بأن يبدأ البحث المناخي في بيئة المكتب في ذلك الوقت. بعد '\n",
            " 'استعراض مسؤوليات تشغيل قسم النملة، اكتشف الأسد أن الإنتاج كان أقل بكثير من '\n",
            " 'ذي قبل، لذا طلب مساعدة البومة، خبير محترم ومعروف جيدا، لإجراء تقييم وتقديم '\n",
            " 'توصيات. بقيت البومة في القسم لمدة ثلاثة أشهر وأصدرت تقريرا ضخما (في عدة '\n",
            " 'مجلدات) استنتجت أن \"القسم مُرهق\" ')\n"
          ]
        }
      ],
      "source": [
        "import pprint\n",
        "\n",
        "translated_text = \"\"\n",
        "for t in Translator(story):\n",
        "  translated_text += t[\"translation_text\"] + \" \"\n",
        "pprint.pprint(translated_text)"
      ]
    }
  ],
  "metadata": {
    "colab": {
      "provenance": []
    },
    "kernelspec": {
      "display_name": "Python 3",
      "name": "python3"
    },
    "language_info": {
      "name": "python"
    }
  },
  "nbformat": 4,
  "nbformat_minor": 0
}
