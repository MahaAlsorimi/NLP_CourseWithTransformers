{
  "cells": [
    {
      "cell_type": "markdown",
      "metadata": {
        "id": "D0XS-Ug1Glw0"
      },
      "source": [
        "# Hajar's Topic"
      ]
    },
    {
      "cell_type": "code",
      "execution_count": null,
      "metadata": {
        "colab": {
          "base_uri": "https://localhost:8080/"
        },
        "id": "99nkFyQJaclX",
        "outputId": "c0c6a962-db49-4aff-8101-78f104856c5d"
      },
      "outputs": [
        {
          "name": "stdout",
          "output_type": "stream",
          "text": [
            "Requirement already satisfied: transformers in /usr/local/lib/python3.10/dist-packages (4.37.2)\n",
            "Requirement already satisfied: filelock in /usr/local/lib/python3.10/dist-packages (from transformers) (3.13.1)\n",
            "Requirement already satisfied: huggingface-hub<1.0,>=0.19.3 in /usr/local/lib/python3.10/dist-packages (from transformers) (0.20.3)\n",
            "Requirement already satisfied: numpy>=1.17 in /usr/local/lib/python3.10/dist-packages (from transformers) (1.25.2)\n",
            "Requirement already satisfied: packaging>=20.0 in /usr/local/lib/python3.10/dist-packages (from transformers) (23.2)\n",
            "Requirement already satisfied: pyyaml>=5.1 in /usr/local/lib/python3.10/dist-packages (from transformers) (6.0.1)\n",
            "Requirement already satisfied: regex!=2019.12.17 in /usr/local/lib/python3.10/dist-packages (from transformers) (2023.12.25)\n",
            "Requirement already satisfied: requests in /usr/local/lib/python3.10/dist-packages (from transformers) (2.31.0)\n",
            "Requirement already satisfied: tokenizers<0.19,>=0.14 in /usr/local/lib/python3.10/dist-packages (from transformers) (0.15.2)\n",
            "Requirement already satisfied: safetensors>=0.4.1 in /usr/local/lib/python3.10/dist-packages (from transformers) (0.4.2)\n",
            "Requirement already satisfied: tqdm>=4.27 in /usr/local/lib/python3.10/dist-packages (from transformers) (4.66.2)\n",
            "Requirement already satisfied: fsspec>=2023.5.0 in /usr/local/lib/python3.10/dist-packages (from huggingface-hub<1.0,>=0.19.3->transformers) (2023.6.0)\n",
            "Requirement already satisfied: typing-extensions>=3.7.4.3 in /usr/local/lib/python3.10/dist-packages (from huggingface-hub<1.0,>=0.19.3->transformers) (4.9.0)\n",
            "Requirement already satisfied: charset-normalizer<4,>=2 in /usr/local/lib/python3.10/dist-packages (from requests->transformers) (3.3.2)\n",
            "Requirement already satisfied: idna<4,>=2.5 in /usr/local/lib/python3.10/dist-packages (from requests->transformers) (3.6)\n",
            "Requirement already satisfied: urllib3<3,>=1.21.1 in /usr/local/lib/python3.10/dist-packages (from requests->transformers) (2.0.7)\n",
            "Requirement already satisfied: certifi>=2017.4.17 in /usr/local/lib/python3.10/dist-packages (from requests->transformers) (2024.2.2)\n"
          ]
        }
      ],
      "source": [
        "!pip install transformers"
      ]
    },
    {
      "cell_type": "code",
      "execution_count": null,
      "metadata": {
        "id": "a_aBZM4ZsHaZ"
      },
      "outputs": [],
      "source": [
        "#Import the necessary function 'pipeline' from the Transformers library.\n",
        "from transformers import pipeline"
      ]
    },
    {
      "cell_type": "code",
      "execution_count": null,
      "metadata": {
        "id": "WUr7cEVRsJaV"
      },
      "outputs": [],
      "source": [
        "#Create a pipeline for the \"fill-mask\" task, specifying the model and tokenizer to be used.\n",
        "fill_mask = pipeline(\n",
        "    \"fill-mask\", model=\"ayoolaolafenwa/Masked-Language-Model\",\n",
        "    tokenizer=\"ayoolaolafenwa/Masked-Language-Model\"\n",
        ")"
      ]
    },
    {
      "cell_type": "code",
      "execution_count": null,
      "metadata": {
        "id": "jgfcK6fmsWuV"
      },
      "outputs": [],
      "source": [
        "#Define a text string with a masked word using the '[MASK]' token.Use the pipeline to fill in the masked word in the text string.\n",
        "text = \"The students eagerly listened to the teacher's [MASK]history lesson.\"\n",
        "filled_text = fill_mask(text)\n"
      ]
    },
    {
      "cell_type": "code",
      "execution_count": null,
      "metadata": {
        "colab": {
          "base_uri": "https://localhost:8080/"
        },
        "id": "6FCC0oqpscsq",
        "outputId": "43448c83-dd40-409d-a91b-b7b543b2edf2"
      },
      "outputs": [
        {
          "name": "stdout",
          "output_type": "stream",
          "text": [
            "[{'score': 0.061727289110422134, 'token': 3167, 'token_str': 'personal', 'sequence': \"the students eagerly listened to the teacher's personal history lesson.\"}, {'score': 0.04005274176597595, 'token': 2345, 'token_str': 'final', 'sequence': \"the students eagerly listened to the teacher's final history lesson.\"}, {'score': 0.034844085574150085, 'token': 1000, 'token_str': '\"', 'sequence': 'the students eagerly listened to the teacher\\'s \" history lesson.'}, {'score': 0.028521237894892693, 'token': 2034, 'token_str': 'first', 'sequence': \"the students eagerly listened to the teacher's first history lesson.\"}, {'score': 0.022872012108564377, 'token': 2154, 'token_str': 'day', 'sequence': \"the students eagerly listened to the teacher's day history lesson.\"}]\n"
          ]
        }
      ],
      "source": [
        "#Print the filled text.\n",
        "print(filled_text)"
      ]
    },
    {
      "cell_type": "code",
      "execution_count": null,
      "metadata": {
        "id": "w2qCAdBMg0t6"
      },
      "outputs": [],
      "source": [
        "text =  \"The [MASK] played joyfully in the park while the [MASK] shone brightly overhead.\"\n",
        "filled_text = fill_mask(text)"
      ]
    },
    {
      "cell_type": "code",
      "execution_count": null,
      "metadata": {
        "colab": {
          "base_uri": "https://localhost:8080/"
        },
        "id": "p8j13jedg7gj",
        "outputId": "f749ee9b-432b-4a68-89bf-1cd2f2bf953e"
      },
      "outputs": [
        {
          "name": "stdout",
          "output_type": "stream",
          "text": [
            "[[{'score': 0.14372526109218597, 'token': 2189, 'token_str': 'music', 'sequence': '[CLS] the music played joyfully in the park while the [MASK] shone brightly overhead. [SEP]'}, {'score': 0.09744042903184891, 'token': 2336, 'token_str': 'children', 'sequence': '[CLS] the children played joyfully in the park while the [MASK] shone brightly overhead. [SEP]'}, {'score': 0.08103342354297638, 'token': 4268, 'token_str': 'kids', 'sequence': '[CLS] the kids played joyfully in the park while the [MASK] shone brightly overhead. [SEP]'}, {'score': 0.04597925394773483, 'token': 5055, 'token_str': 'birds', 'sequence': '[CLS] the birds played joyfully in the park while the [MASK] shone brightly overhead. [SEP]'}, {'score': 0.04155832901597023, 'token': 4743, 'token_str': 'bird', 'sequence': '[CLS] the bird played joyfully in the park while the [MASK] shone brightly overhead. [SEP]'}], [{'score': 0.9667515754699707, 'token': 3103, 'token_str': 'sun', 'sequence': '[CLS] the [MASK] played joyfully in the park while the sun shone brightly overhead. [SEP]'}, {'score': 0.01337355189025402, 'token': 4231, 'token_str': 'moon', 'sequence': '[CLS] the [MASK] played joyfully in the park while the moon shone brightly overhead. [SEP]'}, {'score': 0.004383453167974949, 'token': 3340, 'token_str': 'stars', 'sequence': '[CLS] the [MASK] played joyfully in the park while the stars shone brightly overhead. [SEP]'}, {'score': 0.0024782740511000156, 'token': 13932, 'token_str': 'sunrise', 'sequence': '[CLS] the [MASK] played joyfully in the park while the sunrise shone brightly overhead. [SEP]'}, {'score': 0.0013332134112715721, 'token': 2422, 'token_str': 'light', 'sequence': '[CLS] the [MASK] played joyfully in the park while the light shone brightly overhead. [SEP]'}]]\n"
          ]
        }
      ],
      "source": [
        "print(filled_text)"
      ]
    },
    {
      "cell_type": "code",
      "execution_count": null,
      "metadata": {
        "colab": {
          "base_uri": "https://localhost:8080/"
        },
        "id": "lBmowlq2jKt2",
        "outputId": "51e0f858-e9e5-4b59-d3f0-cc884ee6600e"
      },
      "outputs": [
        {
          "name": "stdout",
          "output_type": "stream",
          "text": [
            "[{'score': 0.23137129843235016, 'token': 2016, 'token_str': 'she', 'sequence': 'she reads books every day.'}, {'score': 0.1603071689605713, 'token': 1998, 'token_str': 'and', 'sequence': 'and reads books every day.'}, {'score': 0.14673174917697906, 'token': 2002, 'token_str': 'he', 'sequence': 'he reads books every day.'}, {'score': 0.05201147124171257, 'token': 1045, 'token_str': 'i', 'sequence': 'i reads books every day.'}, {'score': 0.02015753835439682, 'token': 2040, 'token_str': 'who', 'sequence': 'who reads books every day.'}]\n"
          ]
        }
      ],
      "source": [
        "text =  \"[MASK] reads books every day  .\"\n",
        "filled_text = fill_mask(text)\n",
        "\n",
        "print(filled_text)"
      ]
    }
  ],
  "metadata": {
    "colab": {
      "provenance": []
    },
    "kernelspec": {
      "display_name": "Python 3",
      "name": "python3"
    },
    "language_info": {
      "name": "python"
    }
  },
  "nbformat": 4,
  "nbformat_minor": 0
}
